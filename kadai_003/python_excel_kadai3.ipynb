{
  "nbformat": 4,
  "nbformat_minor": 0,
  "metadata": {
    "colab": {
      "provenance": []
    },
    "kernelspec": {
      "name": "python3",
      "display_name": "Python 3"
    },
    "language_info": {
      "name": "python"
    }
  },
  "cells": [
    {
      "cell_type": "code",
      "source": [],
      "metadata": {
        "id": "NKq2jzJkHs2W"
      },
      "execution_count": null,
      "outputs": []
    },
    {
      "cell_type": "code",
      "source": [
        "!unzip kadai_003.zip"
      ],
      "metadata": {
        "colab": {
          "base_uri": "https://localhost:8080/"
        },
        "id": "SECgirvUGtSr",
        "outputId": "2e1ed7ea-2904-4a94-f302-df9b4274dc4b"
      },
      "execution_count": 5,
      "outputs": [
        {
          "output_type": "stream",
          "name": "stdout",
          "text": [
            "Archive:  kadai_003.zip\n",
            "replace kadai_003/2022_年間売上表.xlsx? [y]es, [n]o, [A]ll, [N]one, [r]ename: A\n",
            "  inflating: kadai_003/2022_年間売上表.xlsx  \n",
            "  inflating: kadai_003/2023_年間売上表.xlsx  \n"
          ]
        }
      ]
    },
    {
      "cell_type": "code",
      "execution_count": 6,
      "metadata": {
        "colab": {
          "base_uri": "https://localhost:8080/"
        },
        "id": "Yy6VGAMGCfCA",
        "outputId": "052f0ca5-388f-4767-ee02-b9652ca1f47d"
      },
      "outputs": [
        {
          "output_type": "stream",
          "name": "stdout",
          "text": [
            "売上集計表.xlsx を作成しました。（ヘッダーに薄いグレー背景を設定）\n"
          ]
        }
      ],
      "source": [
        "import pandas as pd\n",
        "import os\n",
        "from openpyxl import load_workbook\n",
        "from openpyxl.styles import PatternFill\n",
        "\n",
        "# ファイル保存ディレクトリ\n",
        "base_dir = \"kadai_003\"\n",
        "\n",
        "# 読み込むExcelファイル一覧\n",
        "files = [\"2022_年間売上表.xlsx\", \"2023_年間売上表.xlsx\"]\n",
        "\n",
        "# 読み込んだデータを格納するリスト\n",
        "data_list = []\n",
        "\n",
        "# ファイルを順に読み込む\n",
        "for file in files:\n",
        "    file_path = os.path.join(base_dir, file)\n",
        "    # Sheet1からデータを読み込み\n",
        "    df = pd.read_excel(file_path, sheet_name=\"Sheet1\")\n",
        "\n",
        "    # 列名を標準化（余分なスペースを除去）\n",
        "    df.columns = df.columns.str.strip()\n",
        "\n",
        "    # 列名が「金額」でない場合を想定して置き換え\n",
        "    rename_dict = {}\n",
        "    for col in df.columns:\n",
        "        if \"金額\" in col or \"売上\" in col:  # 「売上金額」「売上」なども対応\n",
        "            rename_dict[col] = \"金額\"\n",
        "        if \"商品\" in col:\n",
        "            rename_dict[col] = \"商品\"\n",
        "        if \"年\" in col:\n",
        "            rename_dict[col] = \"売上年\"\n",
        "\n",
        "    df = df.rename(columns=rename_dict)\n",
        "\n",
        "    data_list.append(df)\n",
        "\n",
        "# データを縦に連結\n",
        "all_data = pd.concat(data_list, ignore_index=True)\n",
        "\n",
        "# 商品・売上年ごとにグループ化して合計\n",
        "summary = all_data.groupby([\"商品\", \"売上年\"], as_index=False)[\"金額\"].sum()\n",
        "\n",
        "# 出力先ファイル\n",
        "output_file = os.path.join(base_dir, \"売上集計表.xlsx\")\n",
        "\n",
        "# Excelに書き込み\n",
        "summary.to_excel(output_file, index=False)\n",
        "\n",
        "# openpyxlでスタイルを適用\n",
        "wb = load_workbook(output_file)\n",
        "ws = wb.active\n",
        "\n",
        "# ヘッダーの背景色を設定（薄いグレー #F2F2F2）\n",
        "fill = PatternFill(start_color=\"F2F2F2\", end_color=\"F2F2F2\", fill_type=\"solid\")\n",
        "\n",
        "for cell in ws[1]:  # 1行目（ヘッダー行）\n",
        "    cell.fill = fill\n",
        "\n",
        "# 保存\n",
        "wb.save(output_file)\n",
        "\n",
        "print(\"売上集計表.xlsx を作成しました。（ヘッダーに薄いグレー背景を設定）\")\n"
      ]
    }
  ]
}