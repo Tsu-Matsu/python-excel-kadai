{
  "nbformat": 4,
  "nbformat_minor": 0,
  "metadata": {
    "colab": {
      "provenance": []
    },
    "kernelspec": {
      "name": "python3",
      "display_name": "Python 3"
    },
    "language_info": {
      "name": "python"
    }
  },
  "cells": [
    {
      "cell_type": "code",
      "execution_count": 1,
      "metadata": {
        "colab": {
          "base_uri": "https://localhost:8080/"
        },
        "id": "JOlwM-XAzdIt",
        "outputId": "19e4b608-bf54-445a-9be8-b9e6a52bdb56"
      },
      "outputs": [
        {
          "output_type": "stream",
          "name": "stdout",
          "text": [
            "業績.xlsx を作成しました。\n"
          ]
        }
      ],
      "source": [
        "import pandas as pd\n",
        "\n",
        "# ① 元データを作成\n",
        "data = {\n",
        "    \"日付\": [\"2023-05-17\", \"2023-05-18\", \"2023-05-19\", \"2023-05-20\", \"2023-05-21\"],\n",
        "    \"社員名\": [\"山田\", \"佐藤\", \"鈴木\", \"田中\", \"高橋\"],\n",
        "    \"売上\": [100, 200, 150, 300, 250],\n",
        "    \"部門\": [\"メーカー\", \"代理店\", \"メーカー\", \"商社\", \"代理店\"]\n",
        "}\n",
        "\n",
        "df = pd.DataFrame(data)\n",
        "\n",
        "# ② 全体の売上平均を算出\n",
        "average_sales = df[\"売上\"].mean()\n",
        "\n",
        "# 「平均売上」列を追加（全員同じ平均値）\n",
        "df[\"平均売上\"] = average_sales\n",
        "\n",
        "# ③ 業績ランクを付ける関数を定義\n",
        "def performance(sales, avg):\n",
        "    if sales >= avg + 50:\n",
        "        return \"A\"\n",
        "    elif sales >= avg:\n",
        "        return \"B\"\n",
        "    else:\n",
        "        return \"C\"\n",
        "\n",
        "# ④ 業績ランク列を作成\n",
        "df[\"業績ランク\"] = df[\"売上\"].apply(lambda x: performance(x, average_sales))\n",
        "\n",
        "# ⑤ Excelファイルに書き出し\n",
        "df.to_excel(\"業績.xlsx\", index=False)\n",
        "\n",
        "print(\"業績.xlsx を作成しました。\")\n"
      ]
    }
  ]
}