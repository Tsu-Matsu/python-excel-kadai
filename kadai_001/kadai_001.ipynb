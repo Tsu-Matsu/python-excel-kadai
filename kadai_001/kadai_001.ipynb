{
  "nbformat": 4,
  "nbformat_minor": 0,
  "metadata": {
    "colab": {
      "provenance": []
    },
    "kernelspec": {
      "name": "python3",
      "display_name": "Python 3"
    },
    "language_info": {
      "name": "python"
    }
  },
  "cells": [
    {
      "cell_type": "code",
      "execution_count": 1,
      "metadata": {
        "colab": {
          "base_uri": "https://localhost:8080/",
          "height": 1000
        },
        "id": "dMw3K6cRAhSd",
        "outputId": "90418687-1258-4f91-ebcd-a76f11bf25d6"
      },
      "outputs": [
        {
          "output_type": "stream",
          "name": "stdout",
          "text": [
            "Collecting numpy==1.24.4\n",
            "  Downloading numpy-1.24.4-cp311-cp311-manylinux_2_17_x86_64.manylinux2014_x86_64.whl.metadata (5.6 kB)\n",
            "Collecting pandas==1.5.3\n",
            "  Downloading pandas-1.5.3-cp311-cp311-manylinux_2_17_x86_64.manylinux2014_x86_64.whl.metadata (11 kB)\n",
            "Collecting openpyxl==3.0.10\n",
            "  Downloading openpyxl-3.0.10-py2.py3-none-any.whl.metadata (2.4 kB)\n",
            "Requirement already satisfied: python-dateutil>=2.8.1 in /usr/local/lib/python3.11/dist-packages (from pandas==1.5.3) (2.9.0.post0)\n",
            "Requirement already satisfied: pytz>=2020.1 in /usr/local/lib/python3.11/dist-packages (from pandas==1.5.3) (2025.2)\n",
            "Requirement already satisfied: et-xmlfile in /usr/local/lib/python3.11/dist-packages (from openpyxl==3.0.10) (2.0.0)\n",
            "Requirement already satisfied: six>=1.5 in /usr/local/lib/python3.11/dist-packages (from python-dateutil>=2.8.1->pandas==1.5.3) (1.17.0)\n",
            "Downloading numpy-1.24.4-cp311-cp311-manylinux_2_17_x86_64.manylinux2014_x86_64.whl (17.3 MB)\n",
            "\u001b[2K   \u001b[90m━━━━━━━━━━━━━━━━━━━━━━━━━━━━━━━━━━━━━━━━\u001b[0m \u001b[32m17.3/17.3 MB\u001b[0m \u001b[31m56.2 MB/s\u001b[0m eta \u001b[36m0:00:00\u001b[0m\n",
            "\u001b[?25hDownloading pandas-1.5.3-cp311-cp311-manylinux_2_17_x86_64.manylinux2014_x86_64.whl (12.0 MB)\n",
            "\u001b[2K   \u001b[90m━━━━━━━━━━━━━━━━━━━━━━━━━━━━━━━━━━━━━━━━\u001b[0m \u001b[32m12.0/12.0 MB\u001b[0m \u001b[31m77.6 MB/s\u001b[0m eta \u001b[36m0:00:00\u001b[0m\n",
            "\u001b[?25hDownloading openpyxl-3.0.10-py2.py3-none-any.whl (242 kB)\n",
            "\u001b[2K   \u001b[90m━━━━━━━━━━━━━━━━━━━━━━━━━━━━━━━━━━━━━━━━\u001b[0m \u001b[32m242.1/242.1 kB\u001b[0m \u001b[31m13.7 MB/s\u001b[0m eta \u001b[36m0:00:00\u001b[0m\n",
            "\u001b[?25hInstalling collected packages: openpyxl, numpy, pandas\n",
            "  Attempting uninstall: openpyxl\n",
            "    Found existing installation: openpyxl 3.1.5\n",
            "    Uninstalling openpyxl-3.1.5:\n",
            "      Successfully uninstalled openpyxl-3.1.5\n",
            "  Attempting uninstall: numpy\n",
            "    Found existing installation: numpy 2.0.2\n",
            "    Uninstalling numpy-2.0.2:\n",
            "      Successfully uninstalled numpy-2.0.2\n",
            "  Attempting uninstall: pandas\n",
            "    Found existing installation: pandas 2.2.2\n",
            "    Uninstalling pandas-2.2.2:\n",
            "      Successfully uninstalled pandas-2.2.2\n",
            "\u001b[31mERROR: pip's dependency resolver does not currently take into account all the packages that are installed. This behaviour is the source of the following dependency conflicts.\n",
            "google-colab 1.0.0 requires pandas==2.2.2, but you have pandas 1.5.3 which is incompatible.\n",
            "jax 0.5.2 requires numpy>=1.25, but you have numpy 1.24.4 which is incompatible.\n",
            "cudf-cu12 25.6.0 requires pandas<2.2.4dev0,>=2.0, but you have pandas 1.5.3 which is incompatible.\n",
            "xarray-einstats 0.9.1 requires numpy>=1.25, but you have numpy 1.24.4 which is incompatible.\n",
            "geopandas 1.1.1 requires pandas>=2.0.0, but you have pandas 1.5.3 which is incompatible.\n",
            "tensorflow 2.18.0 requires numpy<2.1.0,>=1.26.0, but you have numpy 1.24.4 which is incompatible.\n",
            "plotnine 0.14.5 requires pandas>=2.2.0, but you have pandas 1.5.3 which is incompatible.\n",
            "mizani 0.13.5 requires pandas>=2.2.0, but you have pandas 1.5.3 which is incompatible.\n",
            "arviz 0.22.0 requires numpy>=1.26.0, but you have numpy 1.24.4 which is incompatible.\n",
            "arviz 0.22.0 requires pandas>=2.1.0, but you have pandas 1.5.3 which is incompatible.\n",
            "treescope 0.1.9 requires numpy>=1.25.2, but you have numpy 1.24.4 which is incompatible.\n",
            "opencv-python-headless 4.12.0.88 requires numpy<2.3.0,>=2; python_version >= \"3.9\", but you have numpy 1.24.4 which is incompatible.\n",
            "opencv-python 4.12.0.88 requires numpy<2.3.0,>=2; python_version >= \"3.9\", but you have numpy 1.24.4 which is incompatible.\n",
            "scipy 1.16.0 requires numpy<2.6,>=1.25.2, but you have numpy 1.24.4 which is incompatible.\n",
            "dask-cudf-cu12 25.6.0 requires pandas<2.2.4dev0,>=2.0, but you have pandas 1.5.3 which is incompatible.\n",
            "jaxlib 0.5.1 requires numpy>=1.25, but you have numpy 1.24.4 which is incompatible.\n",
            "opencv-contrib-python 4.12.0.88 requires numpy<2.3.0,>=2; python_version >= \"3.9\", but you have numpy 1.24.4 which is incompatible.\n",
            "blosc2 3.6.1 requires numpy>=1.26, but you have numpy 1.24.4 which is incompatible.\n",
            "pymc 5.25.1 requires numpy>=1.25.0, but you have numpy 1.24.4 which is incompatible.\n",
            "thinc 8.3.6 requires numpy<3.0.0,>=2.0.0, but you have numpy 1.24.4 which is incompatible.\n",
            "xarray 2025.7.1 requires numpy>=1.26, but you have numpy 1.24.4 which is incompatible.\n",
            "xarray 2025.7.1 requires pandas>=2.2, but you have pandas 1.5.3 which is incompatible.\u001b[0m\u001b[31m\n",
            "\u001b[0mSuccessfully installed numpy-1.24.4 openpyxl-3.0.10 pandas-1.5.3\n"
          ]
        },
        {
          "output_type": "display_data",
          "data": {
            "application/vnd.colab-display-data+json": {
              "pip_warning": {
                "packages": [
                  "numpy"
                ]
              },
              "id": "b38ed4fb6baa4c66abe74aa2be265717"
            }
          },
          "metadata": {}
        }
      ],
      "source": [
        "!pip install numpy==1.24.4 pandas==1.5.3 openpyxl==3.0.10"
      ]
    },
    {
      "cell_type": "code",
      "source": [
        "from openpyxl import Workbook\n",
        "from openpyxl.styles import Alignment, Border, Side, Font\n",
        "from datetime import datetime\n",
        "\n",
        "# ワークブックとシート作成\n",
        "wb = Workbook()\n",
        "ws = wb.active\n",
        "ws.title = \"請求書\"\n",
        "\n",
        "# 列幅を設定\n",
        "ws.column_dimensions[\"B\"].width = 12\n",
        "ws.column_dimensions[\"C\"].width = 8\n",
        "ws.column_dimensions[\"D\"].width = 8\n",
        "ws.column_dimensions[\"E\"].width = 8\n",
        "ws.column_dimensions[\"F\"].width = 8\n",
        "ws.column_dimensions[\"G\"].width = 12\n",
        "\n",
        "# 日付とNo\n",
        "today = datetime.now().strftime(\"%Y/%m/%d\")\n",
        "ws[\"F4\"] = \"No.\"\n",
        "ws[\"G4\"] = \"0001\"\n",
        "ws[\"F5\"] = \"日付\"\n",
        "ws[\"G5\"] = today\n",
        "\n",
        "# 請求書タイトル\n",
        "ws[\"B2\"] = \"請求書\"\n",
        "ws[\"B2\"].font = Font(size=16, bold=True)\n",
        "\n",
        "# 会社情報\n",
        "ws[\"B4\"] = \"株式会社ABC\"\n",
        "ws[\"B5\"] = \"〒101-0022 東京都千代田区神田練塀町300\"\n",
        "ws[\"B6\"] = \"TEL:03-1234-5678   FAX:03-1234-5678\"\n",
        "ws[\"B7\"] = \"担当者名:鈴木一郎 様\"\n",
        "\n",
        "# 商品明細ヘッダー\n",
        "ws[\"B10\"] = \"商品名\"\n",
        "ws[\"C10\"] = \"数量\"\n",
        "ws[\"D10\"] = \"単価\"\n",
        "ws[\"E10\"] = \"金額\"\n",
        "\n",
        "# 商品データ\n",
        "items = [\n",
        "    [\"商品A\", 2, 10000],\n",
        "    [\"商品B\", 1, 15000]\n",
        "]\n",
        "\n",
        "row = 11\n",
        "for item in items:\n",
        "    name, qty, price = item\n",
        "    ws[f\"B{row}\"] = name\n",
        "    ws[f\"C{row}\"] = qty\n",
        "    ws[f\"D{row}\"] = price\n",
        "    ws[f\"E{row}\"] = qty * price\n",
        "    row += 1\n",
        "\n",
        "# 小計・消費税・合計\n",
        "subtotal = sum(qty * price for _, qty, price in items)\n",
        "tax = int(subtotal * 0.1)  # 消費税10%\n",
        "total = subtotal + tax\n",
        "\n",
        "ws[f\"D15\"] = \"小計\"\n",
        "ws[f\"E15\"] = subtotal\n",
        "ws[f\"D16\"] = \"消費税\"\n",
        "ws[f\"E16\"] = tax\n",
        "ws[f\"D17\"] = \"合計\"\n",
        "ws[f\"E17\"] = total\n",
        "\n",
        "# 枠線を付ける（明細部分のみ）\n",
        "thin = Side(border_style=\"thin\", color=\"000000\")\n",
        "border = Border(top=thin, left=thin, right=thin, bottom=thin)\n",
        "\n",
        "for r in range(10, row):  # 明細部分\n",
        "    for c in [\"B\", \"C\", \"D\", \"E\"]:\n",
        "        ws[f\"{c}{r}\"].border = border\n",
        "        ws[f\"{c}{r}\"].alignment = Alignment(horizontal=\"center\", vertical=\"center\")\n",
        "\n",
        "# 保存\n",
        "wb.save(\"請求書.xlsx\")\n",
        "print(\"請求書.xlsx を作成しました！\")\n"
      ],
      "metadata": {
        "colab": {
          "base_uri": "https://localhost:8080/"
        },
        "id": "eswwjtyWA6pp",
        "outputId": "73476ec3-de69-425f-d7c6-96564b56e29d"
      },
      "execution_count": 1,
      "outputs": [
        {
          "output_type": "stream",
          "name": "stdout",
          "text": [
            "請求書.xlsx を作成しました！\n"
          ]
        }
      ]
    }
  ]
}